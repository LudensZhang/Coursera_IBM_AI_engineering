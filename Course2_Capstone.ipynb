{
    "cells": [
        {
            "cell_type": "markdown",
            "metadata": {
                "collapsed": true
            },
            "source": "# Course2_Capstone"
        },
        {
            "cell_type": "markdown",
            "metadata": {},
            "source": "## Load neccessary packages"
        },
        {
            "cell_type": "code",
            "execution_count": 47,
            "metadata": {},
            "outputs": [],
            "source": "import pandas as pd\nimport numpy as np\nimport keras\nfrom keras.models import Sequential\nfrom keras.layers import Dense\nfrom sklearn.model_selection import train_test_split\nfrom sklearn.preprocessing import StandardScaler"
        },
        {
            "cell_type": "markdown",
            "metadata": {},
            "source": "## Data preprocess\nDownload the data"
        },
        {
            "cell_type": "code",
            "execution_count": 4,
            "metadata": {},
            "outputs": [
                {
                    "name": "stdout",
                    "output_type": "stream",
                    "text": "--2022-06-10 14:59:43--  https://cocl.us/concrete_data\nResolving cocl.us (cocl.us)... 23.48.5.144, 23.48.5.143, 2600:140b:4800::173d:f438, ...\nConnecting to cocl.us (cocl.us)|23.48.5.144|:443... connected.\nHTTP request sent, awaiting response... 301 Moved Permanently\nLocation: https://s3-api.us-geo.objectstorage.softlayer.net/cf-courses-data/CognitiveClass/DL0101EN/labs/data/concrete_data.csv [following]\n--2022-06-10 14:59:46--  https://s3-api.us-geo.objectstorage.softlayer.net/cf-courses-data/CognitiveClass/DL0101EN/labs/data/concrete_data.csv\nResolving s3-api.us-geo.objectstorage.softlayer.net (s3-api.us-geo.objectstorage.softlayer.net)... 67.228.254.196\nConnecting to s3-api.us-geo.objectstorage.softlayer.net (s3-api.us-geo.objectstorage.softlayer.net)|67.228.254.196|:443... connected.\nHTTP request sent, awaiting response... 200 OK\nLength: 58988 (58K) [text/csv]\nSaving to: \u2018concrete_data\u2019\n\nconcrete_data       100%[===================>]  57.61K   293KB/s    in 0.2s    \n\n2022-06-10 14:59:47 (293 KB/s) - \u2018concrete_data\u2019 saved [58988/58988]\n\n"
                }
            ],
            "source": "! wget https://cocl.us/concrete_data"
        },
        {
            "cell_type": "markdown",
            "metadata": {},
            "source": "Data preview"
        },
        {
            "cell_type": "code",
            "execution_count": 13,
            "metadata": {},
            "outputs": [
                {
                    "data": {
                        "text/html": "<div>\n<style scoped>\n    .dataframe tbody tr th:only-of-type {\n        vertical-align: middle;\n    }\n\n    .dataframe tbody tr th {\n        vertical-align: top;\n    }\n\n    .dataframe thead th {\n        text-align: right;\n    }\n</style>\n<table border=\"1\" class=\"dataframe\">\n  <thead>\n    <tr style=\"text-align: right;\">\n      <th></th>\n      <th>Cement</th>\n      <th>Blast Furnace Slag</th>\n      <th>Fly Ash</th>\n      <th>Water</th>\n      <th>Superplasticizer</th>\n      <th>Coarse Aggregate</th>\n      <th>Fine Aggregate</th>\n      <th>Age</th>\n      <th>Strength</th>\n    </tr>\n  </thead>\n  <tbody>\n    <tr>\n      <th>0</th>\n      <td>540.0</td>\n      <td>0.0</td>\n      <td>0.0</td>\n      <td>162.0</td>\n      <td>2.5</td>\n      <td>1040.0</td>\n      <td>676.0</td>\n      <td>28</td>\n      <td>79.99</td>\n    </tr>\n    <tr>\n      <th>1</th>\n      <td>540.0</td>\n      <td>0.0</td>\n      <td>0.0</td>\n      <td>162.0</td>\n      <td>2.5</td>\n      <td>1055.0</td>\n      <td>676.0</td>\n      <td>28</td>\n      <td>61.89</td>\n    </tr>\n    <tr>\n      <th>2</th>\n      <td>332.5</td>\n      <td>142.5</td>\n      <td>0.0</td>\n      <td>228.0</td>\n      <td>0.0</td>\n      <td>932.0</td>\n      <td>594.0</td>\n      <td>270</td>\n      <td>40.27</td>\n    </tr>\n    <tr>\n      <th>3</th>\n      <td>332.5</td>\n      <td>142.5</td>\n      <td>0.0</td>\n      <td>228.0</td>\n      <td>0.0</td>\n      <td>932.0</td>\n      <td>594.0</td>\n      <td>365</td>\n      <td>41.05</td>\n    </tr>\n    <tr>\n      <th>4</th>\n      <td>198.6</td>\n      <td>132.4</td>\n      <td>0.0</td>\n      <td>192.0</td>\n      <td>0.0</td>\n      <td>978.4</td>\n      <td>825.5</td>\n      <td>360</td>\n      <td>44.30</td>\n    </tr>\n  </tbody>\n</table>\n</div>",
                        "text/plain": "   Cement  Blast Furnace Slag  Fly Ash  ...  Fine Aggregate  Age  Strength\n0   540.0                 0.0      0.0  ...           676.0   28     79.99\n1   540.0                 0.0      0.0  ...           676.0   28     61.89\n2   332.5               142.5      0.0  ...           594.0  270     40.27\n3   332.5               142.5      0.0  ...           594.0  365     41.05\n4   198.6               132.4      0.0  ...           825.5  360     44.30\n\n[5 rows x 9 columns]"
                    },
                    "execution_count": 13,
                    "metadata": {},
                    "output_type": "execute_result"
                }
            ],
            "source": "raw_data = pd.read_csv('concrete_data')\nraw_data.head()"
        },
        {
            "cell_type": "markdown",
            "metadata": {},
            "source": "Data split"
        },
        {
            "cell_type": "code",
            "execution_count": 33,
            "metadata": {},
            "outputs": [],
            "source": "X_train, X_test, y_train, y_test = train_test_split(raw_data.iloc[:, 0:-1].values, raw_data['Strength'].values, random_state = 2)"
        },
        {
            "cell_type": "markdown",
            "metadata": {},
            "source": "Standard"
        },
        {
            "cell_type": "code",
            "execution_count": 69,
            "metadata": {},
            "outputs": [],
            "source": "scaler = StandardScaler()\nscaler.fit(X_train)\nX_train = scaler.transform(X_train)\nX_test = scaler.transform(X_test)"
        },
        {
            "cell_type": "markdown",
            "metadata": {},
            "source": "## Build model"
        },
        {
            "cell_type": "code",
            "execution_count": 91,
            "metadata": {},
            "outputs": [],
            "source": "model = Sequential()\n\nmodel.add(Dense(30, activation = 'relu', input_shape = (X_train.shape[1],)))\nmodel.add(Dense(50, activation = 'relu'))\nmodel.add(Dense(50, activation = 'relu'))\nmodel.add(Dense(30, activation = 'relu'))\nmodel.add(Dense(1))\n\nmodel.compile(optimizer = 'adam', loss = 'mae')\n\nes = keras.callbacks.EarlyStopping(monitor = 'val_loss',\n                                   patience = 3)"
        },
        {
            "cell_type": "markdown",
            "metadata": {},
            "source": "## Train and test"
        },
        {
            "cell_type": "code",
            "execution_count": 93,
            "metadata": {},
            "outputs": [
                {
                    "name": "stdout",
                    "output_type": "stream",
                    "text": "Epoch 1/100\n14/14 [==============================] - 0s 13ms/step - loss: 3.1797 - val_loss: 4.5904\nEpoch 2/100\n14/14 [==============================] - 0s 9ms/step - loss: 3.1941 - val_loss: 5.0313\nEpoch 3/100\n14/14 [==============================] - 0s 9ms/step - loss: 3.1422 - val_loss: 4.8244\nEpoch 4/100\n14/14 [==============================] - 0s 10ms/step - loss: 3.2097 - val_loss: 4.6812\nEpoch 5/100\n14/14 [==============================] - 0s 9ms/step - loss: 3.1474 - val_loss: 4.6910\nEpoch 6/100\n14/14 [==============================] - 0s 8ms/step - loss: 3.1066 - val_loss: 4.7262\nEpoch 7/100\n14/14 [==============================] - 0s 9ms/step - loss: 3.0554 - val_loss: 4.8616\nEpoch 8/100\n14/14 [==============================] - 0s 9ms/step - loss: 3.3779 - val_loss: 4.8307\nEpoch 9/100\n14/14 [==============================] - 0s 9ms/step - loss: 3.2347 - val_loss: 4.7649\nEpoch 10/100\n14/14 [==============================] - 0s 10ms/step - loss: 3.1109 - val_loss: 4.8289\nEpoch 11/100\n14/14 [==============================] - 0s 9ms/step - loss: 3.0724 - val_loss: 4.5324\nEpoch 12/100\n14/14 [==============================] - 0s 10ms/step - loss: 3.0477 - val_loss: 4.6006\nEpoch 13/100\n14/14 [==============================] - 0s 9ms/step - loss: 2.9976 - val_loss: 4.8283\nEpoch 14/100\n14/14 [==============================] - 0s 7ms/step - loss: 2.9958 - val_loss: 4.6828\nEpoch 15/100\n14/14 [==============================] - 0s 9ms/step - loss: 2.9881 - val_loss: 4.6206\nEpoch 16/100\n14/14 [==============================] - 0s 9ms/step - loss: 2.9178 - val_loss: 4.7166\nEpoch 17/100\n14/14 [==============================] - 0s 8ms/step - loss: 2.9753 - val_loss: 4.6919\nEpoch 18/100\n14/14 [==============================] - 0s 9ms/step - loss: 2.9444 - val_loss: 4.7313\nEpoch 19/100\n14/14 [==============================] - 0s 9ms/step - loss: 2.9628 - val_loss: 4.6730\nEpoch 20/100\n14/14 [==============================] - 0s 9ms/step - loss: 2.9318 - val_loss: 4.5158\nEpoch 21/100\n14/14 [==============================] - 0s 9ms/step - loss: 3.0504 - val_loss: 4.4878\nEpoch 22/100\n14/14 [==============================] - 0s 8ms/step - loss: 3.0460 - val_loss: 4.4629\nEpoch 23/100\n14/14 [==============================] - 0s 9ms/step - loss: 2.9667 - val_loss: 4.7840\nEpoch 24/100\n14/14 [==============================] - 0s 9ms/step - loss: 3.1002 - val_loss: 4.7434\nEpoch 25/100\n14/14 [==============================] - 0s 9ms/step - loss: 2.9577 - val_loss: 4.3868\nEpoch 26/100\n14/14 [==============================] - 0s 8ms/step - loss: 2.9014 - val_loss: 4.6272\nEpoch 27/100\n14/14 [==============================] - 0s 9ms/step - loss: 2.9345 - val_loss: 4.7752\nEpoch 28/100\n14/14 [==============================] - 0s 10ms/step - loss: 3.0154 - val_loss: 4.5610\nEpoch 29/100\n14/14 [==============================] - 0s 8ms/step - loss: 2.9241 - val_loss: 4.4860\nEpoch 30/100\n14/14 [==============================] - 0s 9ms/step - loss: 2.8294 - val_loss: 4.4182\nEpoch 31/100\n14/14 [==============================] - 0s 8ms/step - loss: 2.9791 - val_loss: 4.6919\nEpoch 32/100\n14/14 [==============================] - 0s 10ms/step - loss: 2.8617 - val_loss: 4.4962\nEpoch 33/100\n14/14 [==============================] - 0s 8ms/step - loss: 2.9605 - val_loss: 4.4795\nEpoch 34/100\n14/14 [==============================] - 0s 9ms/step - loss: 2.9676 - val_loss: 4.3240\nEpoch 35/100\n14/14 [==============================] - 0s 7ms/step - loss: 2.8411 - val_loss: 4.6430\nEpoch 36/100\n14/14 [==============================] - 0s 9ms/step - loss: 2.8938 - val_loss: 4.6418\nEpoch 37/100\n14/14 [==============================] - 0s 9ms/step - loss: 2.8760 - val_loss: 4.8007\nEpoch 38/100\n14/14 [==============================] - 0s 9ms/step - loss: 2.9134 - val_loss: 4.5462\nEpoch 39/100\n14/14 [==============================] - 0s 8ms/step - loss: 2.7737 - val_loss: 4.5183\nEpoch 40/100\n14/14 [==============================] - 0s 9ms/step - loss: 2.7490 - val_loss: 4.5249\nEpoch 41/100\n14/14 [==============================] - 0s 9ms/step - loss: 2.7795 - val_loss: 4.5755\nEpoch 42/100\n14/14 [==============================] - 0s 8ms/step - loss: 2.8547 - val_loss: 4.6336\nEpoch 43/100\n14/14 [==============================] - 0s 9ms/step - loss: 2.8715 - val_loss: 4.4903\nEpoch 44/100\n14/14 [==============================] - 0s 9ms/step - loss: 2.7688 - val_loss: 4.4909\nEpoch 45/100\n14/14 [==============================] - 0s 10ms/step - loss: 2.7027 - val_loss: 4.4121\nEpoch 46/100\n14/14 [==============================] - 0s 8ms/step - loss: 2.8018 - val_loss: 4.6534\nEpoch 47/100\n14/14 [==============================] - 0s 8ms/step - loss: 2.7173 - val_loss: 4.6032\nEpoch 48/100\n14/14 [==============================] - 0s 9ms/step - loss: 2.6814 - val_loss: 4.4012\nEpoch 49/100\n14/14 [==============================] - 0s 9ms/step - loss: 2.7080 - val_loss: 4.4546\nEpoch 50/100\n14/14 [==============================] - 0s 9ms/step - loss: 2.6426 - val_loss: 4.3340\nEpoch 51/100\n14/14 [==============================] - 0s 9ms/step - loss: 2.7465 - val_loss: 4.6419\nEpoch 52/100\n14/14 [==============================] - 0s 8ms/step - loss: 2.6795 - val_loss: 4.2973\nEpoch 53/100\n14/14 [==============================] - 0s 9ms/step - loss: 2.6035 - val_loss: 4.3868\nEpoch 54/100\n14/14 [==============================] - 0s 9ms/step - loss: 2.6027 - val_loss: 4.5212\nEpoch 55/100\n14/14 [==============================] - 0s 7ms/step - loss: 2.6859 - val_loss: 4.4867\nEpoch 56/100\n14/14 [==============================] - 0s 9ms/step - loss: 2.8479 - val_loss: 4.5459\nEpoch 57/100\n14/14 [==============================] - 0s 9ms/step - loss: 2.7446 - val_loss: 4.2716\nEpoch 58/100\n14/14 [==============================] - 0s 10ms/step - loss: 2.6966 - val_loss: 4.6045\nEpoch 59/100\n14/14 [==============================] - 0s 9ms/step - loss: 2.7774 - val_loss: 4.4748\nEpoch 60/100\n14/14 [==============================] - 0s 9ms/step - loss: 2.7023 - val_loss: 4.5356\nEpoch 61/100\n14/14 [==============================] - 0s 9ms/step - loss: 2.7123 - val_loss: 4.3081\nEpoch 62/100\n14/14 [==============================] - 0s 7ms/step - loss: 2.6343 - val_loss: 4.3906\nEpoch 63/100\n14/14 [==============================] - 0s 8ms/step - loss: 2.6172 - val_loss: 4.4876\nEpoch 64/100\n14/14 [==============================] - 0s 9ms/step - loss: 2.7260 - val_loss: 4.4324\nEpoch 65/100\n14/14 [==============================] - 0s 9ms/step - loss: 2.8170 - val_loss: 4.5893\nEpoch 66/100\n14/14 [==============================] - 0s 10ms/step - loss: 2.6962 - val_loss: 4.1719\nEpoch 67/100\n14/14 [==============================] - 0s 9ms/step - loss: 2.6910 - val_loss: 4.6975\nEpoch 68/100\n14/14 [==============================] - 0s 10ms/step - loss: 2.6939 - val_loss: 4.5139\nEpoch 69/100\n14/14 [==============================] - 0s 8ms/step - loss: 2.5994 - val_loss: 4.3146\nEpoch 70/100\n14/14 [==============================] - 0s 10ms/step - loss: 2.5257 - val_loss: 4.2178\nEpoch 71/100\n14/14 [==============================] - 0s 9ms/step - loss: 2.6857 - val_loss: 4.7691\nEpoch 72/100\n14/14 [==============================] - 0s 9ms/step - loss: 2.6476 - val_loss: 4.4680\nEpoch 73/100\n14/14 [==============================] - 0s 9ms/step - loss: 2.7368 - val_loss: 4.8105\nEpoch 74/100\n14/14 [==============================] - 0s 9ms/step - loss: 2.6991 - val_loss: 4.2849\nEpoch 75/100\n14/14 [==============================] - 0s 9ms/step - loss: 2.5490 - val_loss: 4.4936\nEpoch 76/100\n14/14 [==============================] - 0s 9ms/step - loss: 2.5466 - val_loss: 4.3241\nEpoch 77/100\n14/14 [==============================] - 0s 10ms/step - loss: 2.5144 - val_loss: 4.4781\nEpoch 78/100\n14/14 [==============================] - 0s 7ms/step - loss: 2.5087 - val_loss: 4.3696\nEpoch 79/100\n14/14 [==============================] - 0s 9ms/step - loss: 2.5875 - val_loss: 4.4218\nEpoch 80/100\n14/14 [==============================] - 0s 6ms/step - loss: 2.6347 - val_loss: 4.2589\nEpoch 81/100\n14/14 [==============================] - 0s 9ms/step - loss: 2.4922 - val_loss: 4.2512\nEpoch 82/100\n14/14 [==============================] - 0s 9ms/step - loss: 2.4679 - val_loss: 4.3110\nEpoch 83/100\n14/14 [==============================] - 0s 8ms/step - loss: 2.5412 - val_loss: 4.2578\nEpoch 84/100\n14/14 [==============================] - 0s 8ms/step - loss: 2.6160 - val_loss: 4.4280\nEpoch 85/100\n14/14 [==============================] - 0s 9ms/step - loss: 2.4798 - val_loss: 4.3188\nEpoch 86/100\n14/14 [==============================] - 0s 9ms/step - loss: 2.4898 - val_loss: 4.3037\nEpoch 87/100\n14/14 [==============================] - 0s 8ms/step - loss: 2.4826 - val_loss: 4.3120\nEpoch 88/100\n14/14 [==============================] - 0s 9ms/step - loss: 2.4892 - val_loss: 4.2418\nEpoch 89/100\n14/14 [==============================] - 0s 9ms/step - loss: 2.4561 - val_loss: 4.4723\nEpoch 90/100\n14/14 [==============================] - 0s 9ms/step - loss: 2.7222 - val_loss: 4.1556\nEpoch 91/100\n14/14 [==============================] - 0s 9ms/step - loss: 2.5111 - val_loss: 4.5142\nEpoch 92/100\n14/14 [==============================] - 0s 8ms/step - loss: 2.4459 - val_loss: 4.1679\nEpoch 93/100\n14/14 [==============================] - 0s 9ms/step - loss: 2.4943 - val_loss: 4.2372\nEpoch 94/100\n14/14 [==============================] - 0s 10ms/step - loss: 2.4436 - val_loss: 4.3975\nEpoch 95/100\n14/14 [==============================] - 0s 7ms/step - loss: 2.4108 - val_loss: 4.4341\nEpoch 96/100\n14/14 [==============================] - 0s 9ms/step - loss: 2.4264 - val_loss: 4.1072\nEpoch 97/100\n14/14 [==============================] - 0s 9ms/step - loss: 2.4903 - val_loss: 4.1930\nEpoch 98/100\n14/14 [==============================] - 0s 9ms/step - loss: 2.4528 - val_loss: 4.6461\nEpoch 99/100\n14/14 [==============================] - 0s 7ms/step - loss: 2.4636 - val_loss: 4.4623\nEpoch 100/100\n14/14 [==============================] - 0s 9ms/step - loss: 2.4595 - val_loss: 4.2256\n"
                },
                {
                    "data": {
                        "text/plain": "<keras.callbacks.History at 0x7f2f6478f370>"
                    },
                    "execution_count": 93,
                    "metadata": {},
                    "output_type": "execute_result"
                }
            ],
            "source": "model.fit(X_train, y_train, \n          batch_size = 50, \n          epochs = 100, \n          validation_split = 0.1)"
        },
        {
            "cell_type": "code",
            "execution_count": 90,
            "metadata": {},
            "outputs": [
                {
                    "name": "stdout",
                    "output_type": "stream",
                    "text": "9/9 [==============================] - 0s 1ms/step - loss: 4.3408\n"
                },
                {
                    "data": {
                        "text/plain": "4.3407816886901855"
                    },
                    "execution_count": 90,
                    "metadata": {},
                    "output_type": "execute_result"
                }
            ],
            "source": "model.evaluate(X_test, y_test)"
        },
        {
            "cell_type": "code",
            "execution_count": null,
            "metadata": {},
            "outputs": [],
            "source": ""
        }
    ],
    "metadata": {
        "kernelspec": {
            "display_name": "Python 3.9",
            "language": "python",
            "name": "python3"
        },
        "language_info": {
            "codemirror_mode": {
                "name": "ipython",
                "version": 3
            },
            "file_extension": ".py",
            "mimetype": "text/x-python",
            "name": "python",
            "nbconvert_exporter": "python",
            "pygments_lexer": "ipython3",
            "version": "3.9.7"
        }
    },
    "nbformat": 4,
    "nbformat_minor": 1
}