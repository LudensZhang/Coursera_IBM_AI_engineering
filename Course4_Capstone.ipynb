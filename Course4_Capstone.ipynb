{
    "cells": [
        {
            "metadata": {},
            "cell_type": "markdown",
            "source": "<a href=\"https://cocl.us/DL0320EN_TOP_IMAGE\">\n    <img src=\"https://s3-api.us-geo.objectstorage.softlayer.net/cf-courses-data/CognitiveClass/DL0320EN/Assets/Images/Top.png\" width=\"750\" alt=\"IBM 10TB Storage\" />\n</a>"
        },
        {
            "metadata": {},
            "cell_type": "markdown",
            "source": "<h1>Fashion-MNIST Project </h1>"
        },
        {
            "metadata": {},
            "cell_type": "markdown",
            "source": "<h2>Table of Contents</h2>"
        },
        {
            "metadata": {},
            "cell_type": "markdown",
            "source": "<p>In this project, you will classify  Fashion-MNIST dataset using convolutional neural networks.</p>\n<ul>\n  \n<ul>\n<li><a href=\"#Preparation\">Preparation</a></li>\n<li><a href=\"#Q1\">Questions 1: Create a Dataset Class</li>\n<li><a href=\"#Train\">Define Softmax, Criterion function, Optimizer and Train the Model</a></li>\n\n</ul>\n \n\n</ul>\n\n<p>Estimated Time Needed: <b>30 min</b></p>\n<hr>"
        },
        {
            "metadata": {},
            "cell_type": "markdown",
            "source": "<h2 id=\"Preparation\" >Preparation</h2>"
        },
        {
            "metadata": {},
            "cell_type": "markdown",
            "source": "Download the datasets you needed for this lab."
        },
        {
            "metadata": {},
            "cell_type": "markdown",
            "source": "The following are the PyTorch modules you are going to need"
        },
        {
            "metadata": {},
            "cell_type": "code",
            "source": "!pip install torch\n!pip install torchvision",
            "execution_count": 1,
            "outputs": [
                {
                    "output_type": "stream",
                    "text": "Requirement already satisfied: torch in /opt/conda/envs/Python-3.9/lib/python3.9/site-packages (1.10.2)\nRequirement already satisfied: typing_extensions in /opt/conda/envs/Python-3.9/lib/python3.9/site-packages (from torch) (3.7.4.3)\nRequirement already satisfied: torchvision in /opt/conda/envs/Python-3.9/lib/python3.9/site-packages (0.11.3)\nRequirement already satisfied: numpy in /opt/conda/envs/Python-3.9/lib/python3.9/site-packages (from torchvision) (1.20.3)\nRequirement already satisfied: torch in /opt/conda/envs/Python-3.9/lib/python3.9/site-packages (from torchvision) (1.10.2)\nRequirement already satisfied: pillow!=8.3.0,>=5.3.0 in /opt/conda/envs/Python-3.9/lib/python3.9/site-packages (from torchvision) (9.0.1)\nRequirement already satisfied: typing_extensions in /opt/conda/envs/Python-3.9/lib/python3.9/site-packages (from torch->torchvision) (3.7.4.3)\n",
                    "name": "stdout"
                }
            ]
        },
        {
            "metadata": {},
            "cell_type": "code",
            "source": "# PyTorch Modules you need for this lab\n\nfrom torch.utils.data import Dataset, DataLoader\n\nfrom torchvision import transforms\nimport torch \nimport torch.nn as nn\nimport torchvision.transforms as transforms\nimport torchvision.datasets as dsets\ntorch.manual_seed(0)",
            "execution_count": 2,
            "outputs": [
                {
                    "output_type": "execute_result",
                    "execution_count": 2,
                    "data": {
                        "text/plain": "<torch._C.Generator at 0x7efe7c3fba10>"
                    },
                    "metadata": {}
                }
            ]
        },
        {
            "metadata": {},
            "cell_type": "markdown",
            "source": "Import Non-PyTorch Modules "
        },
        {
            "metadata": {},
            "cell_type": "code",
            "source": "# Other non-PyTorch Modules\n\nfrom matplotlib.pyplot import imshow\nimport matplotlib.pylab as plt\n\nfrom PIL import Image",
            "execution_count": 5,
            "outputs": []
        },
        {
            "metadata": {},
            "cell_type": "code",
            "source": "def show_data(data_sample):\n    plt.imshow(data_sample[0].numpy().reshape(IMAGE_SIZE, IMAGE_SIZE), cmap='gray')\n    plt.title('y = '+ str(data_sample[1]))",
            "execution_count": 6,
            "outputs": []
        },
        {
            "metadata": {},
            "cell_type": "markdown",
            "source": "<hr>"
        },
        {
            "metadata": {},
            "cell_type": "markdown",
            "source": "<hr>"
        },
        {
            "metadata": {},
            "cell_type": "markdown",
            "source": "<h2 id=\"Questions 1\">Questions 1: Create a Dataset Class</h2>"
        },
        {
            "metadata": {},
            "cell_type": "markdown",
            "source": "In this section, you will load a Dataset object, but first you must transform the dataset. Use the <code>Compose</code> function to perform the following transforms:. \n<ol>\n    <li>use the transforms object to<code> Resize </code> to resize the image.</li>\n    <li>use the transforms object to<code> ToTensor </code> to convert the image to a tensor.</li>\n</ol>\n\nYou will then take a screen shot of your validation data."
        },
        {
            "metadata": {},
            "cell_type": "markdown",
            "source": "Use the compose function ot compse the "
        },
        {
            "metadata": {},
            "cell_type": "code",
            "source": "#Hint:\n\nIMAGE_SIZE = 16\n\ntransforms.Resize((IMAGE_SIZE, IMAGE_SIZE)),\ntransforms.ToTensor()#\ncomposed = transforms.Compose([transforms.Resize((IMAGE_SIZE, IMAGE_SIZE)), transforms.ToTensor()])",
            "execution_count": 9,
            "outputs": []
        },
        {
            "metadata": {},
            "cell_type": "markdown",
            "source": "<hr>"
        },
        {
            "metadata": {},
            "cell_type": "markdown",
            "source": "Create two dataset objects for the Fashion MNIST  dataset. One for training data called <code> dataset_train </code> and one for validation data <code>dataset_val</code>. You will be asked to take a screenshot of several samples."
        },
        {
            "metadata": {},
            "cell_type": "markdown",
            "source": "<b>Hint:</b>\n<code>dsets.FashionMNIST(root= '.fashion/data', train=???, transform=composed,  download=True)</code>"
        },
        {
            "metadata": {},
            "cell_type": "code",
            "source": "dataset_train = dsets.FashionMNIST(root =  '.fashion/data', train = True, transform = composed,  download = True)\ndataset_val = dsets.FashionMNIST(root =  '.fashion/data', train = False, transform = composed,  download = True)",
            "execution_count": 10,
            "outputs": [
                {
                    "output_type": "stream",
                    "text": "Downloading http://fashion-mnist.s3-website.eu-central-1.amazonaws.com/train-images-idx3-ubyte.gz\nDownloading http://fashion-mnist.s3-website.eu-central-1.amazonaws.com/train-images-idx3-ubyte.gz to .fashion/data/FashionMNIST/raw/train-images-idx3-ubyte.gz\n",
                    "name": "stdout"
                },
                {
                    "output_type": "display_data",
                    "data": {
                        "text/plain": "  0%|          | 0/26421880 [00:00<?, ?it/s]",
                        "application/vnd.jupyter.widget-view+json": {
                            "version_major": 2,
                            "version_minor": 0,
                            "model_id": "5549feeb25a345ed817553396f63358f"
                        }
                    },
                    "metadata": {}
                },
                {
                    "output_type": "stream",
                    "text": "Extracting .fashion/data/FashionMNIST/raw/train-images-idx3-ubyte.gz to .fashion/data/FashionMNIST/raw\n\nDownloading http://fashion-mnist.s3-website.eu-central-1.amazonaws.com/train-labels-idx1-ubyte.gz\nDownloading http://fashion-mnist.s3-website.eu-central-1.amazonaws.com/train-labels-idx1-ubyte.gz to .fashion/data/FashionMNIST/raw/train-labels-idx1-ubyte.gz\n",
                    "name": "stdout"
                },
                {
                    "output_type": "display_data",
                    "data": {
                        "text/plain": "  0%|          | 0/29515 [00:00<?, ?it/s]",
                        "application/vnd.jupyter.widget-view+json": {
                            "version_major": 2,
                            "version_minor": 0,
                            "model_id": "37791b0646ce48638e7e312efeda38c7"
                        }
                    },
                    "metadata": {}
                },
                {
                    "output_type": "stream",
                    "text": "Extracting .fashion/data/FashionMNIST/raw/train-labels-idx1-ubyte.gz to .fashion/data/FashionMNIST/raw\n\nDownloading http://fashion-mnist.s3-website.eu-central-1.amazonaws.com/t10k-images-idx3-ubyte.gz\nDownloading http://fashion-mnist.s3-website.eu-central-1.amazonaws.com/t10k-images-idx3-ubyte.gz to .fashion/data/FashionMNIST/raw/t10k-images-idx3-ubyte.gz\n",
                    "name": "stdout"
                },
                {
                    "output_type": "display_data",
                    "data": {
                        "text/plain": "  0%|          | 0/4422102 [00:00<?, ?it/s]",
                        "application/vnd.jupyter.widget-view+json": {
                            "version_major": 2,
                            "version_minor": 0,
                            "model_id": "d1987a7d852e4425ba8ace51cf9a9be5"
                        }
                    },
                    "metadata": {}
                },
                {
                    "output_type": "stream",
                    "text": "Extracting .fashion/data/FashionMNIST/raw/t10k-images-idx3-ubyte.gz to .fashion/data/FashionMNIST/raw\n\nDownloading http://fashion-mnist.s3-website.eu-central-1.amazonaws.com/t10k-labels-idx1-ubyte.gz\nDownloading http://fashion-mnist.s3-website.eu-central-1.amazonaws.com/t10k-labels-idx1-ubyte.gz to .fashion/data/FashionMNIST/raw/t10k-labels-idx1-ubyte.gz\n",
                    "name": "stdout"
                },
                {
                    "output_type": "display_data",
                    "data": {
                        "text/plain": "  0%|          | 0/5148 [00:00<?, ?it/s]",
                        "application/vnd.jupyter.widget-view+json": {
                            "version_major": 2,
                            "version_minor": 0,
                            "model_id": "eaad469547a74076b8f3d8ef2584121d"
                        }
                    },
                    "metadata": {}
                },
                {
                    "output_type": "stream",
                    "text": "Extracting .fashion/data/FashionMNIST/raw/t10k-labels-idx1-ubyte.gz to .fashion/data/FashionMNIST/raw\n\n",
                    "name": "stdout"
                }
            ]
        },
        {
            "metadata": {},
            "cell_type": "code",
            "source": "for n,data_sample in enumerate(dataset_val):\n\n    show_data(data_sample)\n    plt.show()\n    if n==2:\n        break ",
            "execution_count": 11,
            "outputs": [
                {
                    "output_type": "display_data",
                    "data": {
                        "text/plain": "<Figure size 432x288 with 1 Axes>",
                        "image/png": "[encoded data removed]"
                    },
                    "metadata": {
                        "needs_background": "light"
                    }
                },
                {
                    "output_type": "display_data",
                    "data": {
                        "text/plain": "<Figure size 432x288 with 1 Axes>",
                        "image/png": "[encoded data removed]"
                    },
                    "metadata": {
                        "needs_background": "light"
                    }
                },
                {
                    "output_type": "display_data",
                    "data": {
                        "text/plain": "<Figure size 432x288 with 1 Axes>",
                        "image/png": "[encoded data removed]"
                    },
                    "metadata": {
                        "needs_background": "light"
                    }
                }
            ]
        },
        {
            "metadata": {},
            "cell_type": "markdown",
            "source": "<h2 id=\"Q2\">Questions 2</h2>\nCreate a Convolutional Neural Network class using ONE of the following constructors.  Train the network using the provided code then provide a screenshot of your training cost and accuracy with your validation data."
        },
        {
            "metadata": {},
            "cell_type": "markdown",
            "source": "Constructor  using Batch Norm "
        },
        {
            "metadata": {},
            "cell_type": "code",
            "source": "class CNN_batch(nn.Module):\n    \n    # Contructor\n    def __init__(self, out_1=16, out_2=32,number_of_classes=10):\n        super(CNN_batch, self).__init__()\n        self.cnn1 = nn.Conv2d(in_channels=1, out_channels=out_1, kernel_size=5, padding=2)\n        self.conv1_bn = nn.BatchNorm2d(out_1)\n\n        self.maxpool1=nn.MaxPool2d(kernel_size=2)\n        \n        self.cnn2 = nn.Conv2d(in_channels=out_1, out_channels=out_2, kernel_size=5, stride=1, padding=2)\n        self.conv2_bn = nn.BatchNorm2d(out_2)\n\n        self.maxpool2=nn.MaxPool2d(kernel_size=2)\n        self.fc1 = nn.Linear(out_2 * 4 * 4, number_of_classes)\n        self.bn_fc1 = nn.BatchNorm1d(10)\n    \n    # Prediction\n    def forward(self, x):\n        x = self.cnn1(x)\n        x=self.conv1_bn(x)\n        x = torch.relu(x)\n        x = self.maxpool1(x)\n        x = self.cnn2(x)\n        x=self.conv2_bn(x)\n        x = torch.relu(x)\n        x = self.maxpool2(x)\n        x = x.view(x.size(0), -1)\n        x = self.fc1(x)\n        x=self.bn_fc1(x)\n        return x",
            "execution_count": 12,
            "outputs": []
        },
        {
            "metadata": {},
            "cell_type": "markdown",
            "source": "Constructor  for regular Convolutional Neural Network"
        },
        {
            "metadata": {},
            "cell_type": "code",
            "source": "class CNN(nn.Module):\n    \n    # Contructor\n    def __init__(self, out_1=16, out_2=32,number_of_classes=10):\n        super(CNN, self).__init__()\n        self.cnn1 = nn.Conv2d(in_channels=1, out_channels=out_1, kernel_size=5, padding=2)\n        self.maxpool1=nn.MaxPool2d(kernel_size=2)\n\n        self.cnn2 = nn.Conv2d(in_channels=out_1, out_channels=out_2, kernel_size=5, stride=1, padding=2)\n        self.maxpool2=nn.MaxPool2d(kernel_size=2)\n        self.fc1 = nn.Linear(out_2 * 4 * 4, number_of_classes)\n    \n    # Prediction\n    def forward(self, x):\n        x = self.cnn1(x)\n        x = torch.relu(x)\n        x = self.maxpool1(x)\n        x = self.cnn2(x)\n        x = torch.relu(x)\n        x = self.maxpool2(x)\n        x = x.view(x.size(0), -1)\n        x = self.fc1(x)\n        return x",
            "execution_count": 13,
            "outputs": []
        },
        {
            "metadata": {},
            "cell_type": "markdown",
            "source": "train loader  and validation loader "
        },
        {
            "metadata": {},
            "cell_type": "code",
            "source": "train_loader = torch.utils.data.DataLoader(dataset=dataset_train, batch_size=100 )\ntest_loader = torch.utils.data.DataLoader(dataset=dataset_val, batch_size=100 )",
            "execution_count": 14,
            "outputs": []
        },
        {
            "metadata": {},
            "cell_type": "markdown",
            "source": "Convolutional Neural Network object "
        },
        {
            "metadata": {},
            "cell_type": "code",
            "source": "# model = CNN(out_1=16, out_2=32,number_of_classes=10)\nmodel =CNN_batch(out_1=16, out_2=32,number_of_classes=10)",
            "execution_count": 15,
            "outputs": []
        },
        {
            "metadata": {},
            "cell_type": "markdown",
            "source": "Create the objects for the criterion and the optimizer named <code>criterion</code> and <code>optimizer</code>. Make the optimizer use SGD with a learning rate of 0.1 and the optimizer use Cross Entropy Loss"
        },
        {
            "metadata": {},
            "cell_type": "code",
            "source": "criterion = nn.CrossEntropyLoss()\noptimizer = torch.optim.SGD(model.parameters(), lr = 0.1, momentum = 0.1)",
            "execution_count": 25,
            "outputs": []
        },
        {
            "metadata": {},
            "cell_type": "markdown",
            "source": "Code used to train the model "
        },
        {
            "metadata": {},
            "cell_type": "code",
            "source": "import time\nstart_time = time.time()\n\ncost_list=[]\naccuracy_list=[]\nN_test=len(dataset_val)\nn_epochs=5\nfor epoch in range(n_epochs):\n    cost=0\n    model.train()\n    for x, y in train_loader:\n        optimizer.zero_grad()\n        z = model(x)\n        loss = criterion(z, y)\n        loss.backward()\n        optimizer.step()\n        cost+=loss.item()\n    correct=0\n    #perform a prediction on the validation  data \n    model.eval()\n    for x_test, y_test in test_loader:\n        z = model(x_test)\n        _, yhat = torch.max(z.data, 1)\n        correct += (yhat == y_test).sum().item()\n    accuracy = correct / N_test\n    accuracy_list.append(accuracy)\n    cost_list.append(cost)\n    print(f'Epoch {epoch} finished. accuracy {accuracy}. train_loss {cost}')",
            "execution_count": 26,
            "outputs": [
                {
                    "output_type": "stream",
                    "text": "Epoch 0 finished. accuracy 0.8869. train_loss 159.37049651145935\nEpoch 1 finished. accuracy 0.8882. train_loss 152.52257480472326\nEpoch 2 finished. accuracy 0.8905. train_loss 145.78267261385918\nEpoch 3 finished. accuracy 0.8903. train_loss 140.44073493778706\nEpoch 4 finished. accuracy 0.8906. train_loss 135.3206867352128\n",
                    "name": "stdout"
                }
            ]
        },
        {
            "metadata": {},
            "cell_type": "markdown",
            "source": "You will use the following to plot the Cost and accuracy for each epoch for the training and testing data, respectively. "
        },
        {
            "metadata": {},
            "cell_type": "code",
            "source": "fig, ax1 = plt.subplots()\ncolor = 'tab:red'\nax1.plot(cost_list, color=color)\nax1.set_xlabel('epoch', color=color)\nax1.set_ylabel('Cost', color=color)\nax1.tick_params(axis='y', color=color)\n    \nax2 = ax1.twinx()  \ncolor = 'tab:blue'\nax2.set_ylabel('accuracy', color=color) \nax2.set_xlabel('epoch', color=color)\nax2.plot( accuracy_list, color=color)\nax2.tick_params(axis='y', color=color)\nfig.tight_layout()",
            "execution_count": 27,
            "outputs": [
                {
                    "output_type": "display_data",
                    "data": {
                        "text/plain": "<Figure size 432x288 with 2 Axes>",
                        "image/png": "[encoded data removed]"
                    },
                    "metadata": {
                        "needs_background": "light"
                    }
                }
            ]
        },
        {
            "metadata": {},
            "cell_type": "markdown",
            "source": "dataset: https://github.com/zalandoresearch/fashion-mnist"
        },
        {
            "metadata": {},
            "cell_type": "markdown",
            "source": "<h2>About the Authors:</h2> \n\n<a href=\"https://www.linkedin.com/in/joseph-s-50398b136/\">Joseph Santarcangelo</a> has a PhD in Electrical Engineering, his research focused on using machine learning, signal processing, and computer vision to determine how videos impact human cognition. Joseph has been working for IBM since he completed his PhD."
        },
        {
            "metadata": {},
            "cell_type": "markdown",
            "source": "Other contributors: <a href=\"https://www.linkedin.com/in/michelleccarey/\">Michelle Carey</a>, <a href=\"www.linkedin.com/in/jiahui-mavis-zhou-a4537814a\">Mavis Zhou</a> "
        },
        {
            "metadata": {},
            "cell_type": "markdown",
            "source": "<hr>"
        },
        {
            "metadata": {},
            "cell_type": "markdown",
            "source": "Copyright &copy; 2018 <a href=\"cognitiveclass.ai?utm_source=bducopyrightlink&utm_medium=dswb&utm_campaign=bdu\">cognitiveclass.ai</a>. This notebook and its source code are released under the terms of the <a href=\"https://bigdatauniversity.com/mit-license/\">MIT License</a>."
        }
    ],
    "metadata": {
        "kernelspec": {
            "name": "python3",
            "display_name": "Python 3.9",
            "language": "python"
        },
        "language_info": {
            "name": "python",
            "version": "3.9.7",
            "mimetype": "text/x-python",
            "codemirror_mode": {
                "name": "ipython",
                "version": 3
            },
            "pygments_lexer": "ipython3",
            "nbconvert_exporter": "python",
            "file_extension": ".py"
        }
    },
    "nbformat": 4,
    "nbformat_minor": 4
}